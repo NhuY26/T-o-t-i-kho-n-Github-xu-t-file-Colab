{
  "nbformat": 4,
  "nbformat_minor": 0,
  "metadata": {
    "colab": {
      "name": "Tạo tài khoản Github & xuất file Colab",
      "provenance": [],
      "authorship_tag": "ABX9TyNYGkZKorWry4aLLffhFywa",
      "include_colab_link": true
    },
    "kernelspec": {
      "name": "python3",
      "display_name": "Python 3"
    },
    "language_info": {
      "name": "python"
    }
  },
  "cells": [
    {
      "cell_type": "markdown",
      "metadata": {
        "id": "view-in-github",
        "colab_type": "text"
      },
      "source": [
        "<a href=\"https://colab.research.google.com/github/NhuY26/T-o-t-i-kho-n-Github-xu-t-file-Colab/blob/main/T%E1%BA%A1o_t%C3%A0i_kho%E1%BA%A3n_Github_%26_xu%E1%BA%A5t_file_Colab.ipynb\" target=\"_parent\"><img src=\"https://colab.research.google.com/assets/colab-badge.svg\" alt=\"Open In Colab\"/></a>"
      ]
    },
    {
      "cell_type": "code",
      "metadata": {
        "colab": {
          "base_uri": "https://localhost:8080/"
        },
        "id": "lnyn8Fx2Pc66",
        "outputId": "273c7ba3-a720-4086-b2f2-719a4e43dc25"
      },
      "source": [
        "print(\"Hello Github & Colab\")"
      ],
      "execution_count": null,
      "outputs": [
        {
          "output_type": "stream",
          "name": "stdout",
          "text": [
            "Hello Github & Colab\n"
          ]
        }
      ]
    }
  ]
}